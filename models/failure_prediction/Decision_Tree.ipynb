{
  "nbformat": 4,
  "nbformat_minor": 0,
  "metadata": {
    "colab": {
      "name": "Decision_Tree.ipynb",
      "provenance": [],
      "collapsed_sections": []
    },
    "kernelspec": {
      "display_name": "Python 3",
      "name": "python3"
    },
    "language_info": {
      "name": "python"
    }
  },
  "cells": [
    {
      "cell_type": "markdown",
      "metadata": {
        "id": "FxPrqgIEVsdg"
      },
      "source": [
        "Contributors: **Rohit Singh Rathaur, Girish L.** \n",
        "\n",
        "Copyright [2021](2021) [*Rohit Singh Rathaur, BIT Mesra and Girish L., CIT GUBBI, Karnataka*]\n",
        "\n",
        "Licensed under the Apache License, Version 2.0 (the \"License\");\n",
        "you may not use this file except in compliance with the License.\n",
        "You may obtain a copy of the License at\n",
        "\n",
        "    http://www.apache.org/licenses/LICENSE-2.0\n",
        "\n",
        "Unless required by applicable law or agreed to in writing, software\n",
        "distributed under the License is distributed on an \"AS IS\" BASIS,\n",
        "WITHOUT WARRANTIES OR CONDITIONS OF ANY KIND, either express or implied.\n",
        "See the License for the specific language governing permissions and\n",
        "limitations under the License."
      ]
    },
    {
      "cell_type": "markdown",
      "metadata": {
        "id": "sV1Drb9ccUFw"
      },
      "source": [
        "We mounted the drive to access the data"
      ]
    },
    {
      "cell_type": "code",
      "metadata": {
        "colab": {
          "base_uri": "https://localhost:8080/"
        },
        "id": "YQ6lT1e2hrx4",
        "outputId": "df8b6b61-66a0-4bca-9ec5-c21216f5b46d"
      },
      "source": [
        "from google.colab import drive\n",
        "drive.mount('/content/drive')"
      ],
      "execution_count": null,
      "outputs": [
        {
          "output_type": "stream",
          "name": "stdout",
          "text": [
            "Mounted at /content/drive\n"
          ]
        }
      ]
    },
    {
      "cell_type": "markdown",
      "metadata": {
        "id": "yhhkDCI7cc43"
      },
      "source": [
        "We are importing libraries to read the CSV and to train the models"
      ]
    },
    {
      "cell_type": "code",
      "metadata": {
        "id": "tLhroy5BnMnC"
      },
      "source": [
        "# Importing libraries\n",
        "import tensorflow as tf\n",
        "import matplotlib.pyplot as plt\n",
        "import matplotlib as mpl\n",
        "import pandas as pd\n",
        "import numpy as np\n",
        "import os"
      ],
      "execution_count": null,
      "outputs": []
    },
    {
      "cell_type": "markdown",
      "metadata": {
        "id": "9wFIhTogcl4z"
      },
      "source": [
        "We are reading CSV file using `read_csv` function and dropping the `Timestamp` column and storing it in a DataFrame called `df_Ellis`."
      ]
    },
    {
      "cell_type": "code",
      "metadata": {
        "id": "2-UpMVsSnfCI",
        "colab": {
          "base_uri": "https://localhost:8080/",
          "height": 419
        },
        "outputId": "38b85609-e8c4-493f-ee6d-43d1b627db7f"
      },
      "source": [
        "df_Ellis  = pd.read_csv(\"/content/drive/MyDrive/Failure/lstm/Ellis_FinalTwoConditionwithOR.csv\")\n",
        "df_Ellis=df_Ellis.drop(columns='Timestamp')\n",
        "df_Ellis"
      ],
      "execution_count": null,
      "outputs": [
        {
          "output_type": "execute_result",
          "data": {
            "text/html": [
              "<div>\n",
              "<style scoped>\n",
              "    .dataframe tbody tr th:only-of-type {\n",
              "        vertical-align: middle;\n",
              "    }\n",
              "\n",
              "    .dataframe tbody tr th {\n",
              "        vertical-align: top;\n",
              "    }\n",
              "\n",
              "    .dataframe thead th {\n",
              "        text-align: right;\n",
              "    }\n",
              "</style>\n",
              "<table border=\"1\" class=\"dataframe\">\n",
              "  <thead>\n",
              "    <tr style=\"text-align: right;\">\n",
              "      <th></th>\n",
              "      <th>ellis-cpu.system_perc</th>\n",
              "      <th>ellis-cpu.wait_perc</th>\n",
              "      <th>ellis-load.avg_1_min</th>\n",
              "      <th>ellis-mem.free_mb</th>\n",
              "      <th>ellis-net.in_bytes_sec</th>\n",
              "      <th>ellis-net.out_packets_sec</th>\n",
              "      <th>Label</th>\n",
              "    </tr>\n",
              "  </thead>\n",
              "  <tbody>\n",
              "    <tr>\n",
              "      <th>0</th>\n",
              "      <td>0.5</td>\n",
              "      <td>12.9</td>\n",
              "      <td>1.730</td>\n",
              "      <td>3949</td>\n",
              "      <td>5413.200</td>\n",
              "      <td>62.067</td>\n",
              "      <td>1</td>\n",
              "    </tr>\n",
              "    <tr>\n",
              "      <th>1</th>\n",
              "      <td>0.4</td>\n",
              "      <td>10.3</td>\n",
              "      <td>1.790</td>\n",
              "      <td>3950</td>\n",
              "      <td>5201.667</td>\n",
              "      <td>59.567</td>\n",
              "      <td>1</td>\n",
              "    </tr>\n",
              "    <tr>\n",
              "      <th>2</th>\n",
              "      <td>0.4</td>\n",
              "      <td>11.8</td>\n",
              "      <td>1.520</td>\n",
              "      <td>3950</td>\n",
              "      <td>5370.733</td>\n",
              "      <td>61.200</td>\n",
              "      <td>1</td>\n",
              "    </tr>\n",
              "    <tr>\n",
              "      <th>3</th>\n",
              "      <td>0.4</td>\n",
              "      <td>12.9</td>\n",
              "      <td>1.430</td>\n",
              "      <td>3949</td>\n",
              "      <td>5292.467</td>\n",
              "      <td>60.400</td>\n",
              "      <td>1</td>\n",
              "    </tr>\n",
              "    <tr>\n",
              "      <th>4</th>\n",
              "      <td>0.5</td>\n",
              "      <td>12.1</td>\n",
              "      <td>1.440</td>\n",
              "      <td>3950</td>\n",
              "      <td>5318.167</td>\n",
              "      <td>61.700</td>\n",
              "      <td>1</td>\n",
              "    </tr>\n",
              "    <tr>\n",
              "      <th>...</th>\n",
              "      <td>...</td>\n",
              "      <td>...</td>\n",
              "      <td>...</td>\n",
              "      <td>...</td>\n",
              "      <td>...</td>\n",
              "      <td>...</td>\n",
              "      <td>...</td>\n",
              "    </tr>\n",
              "    <tr>\n",
              "      <th>176995</th>\n",
              "      <td>0.4</td>\n",
              "      <td>0.3</td>\n",
              "      <td>0.030</td>\n",
              "      <td>3484</td>\n",
              "      <td>230.967</td>\n",
              "      <td>2.167</td>\n",
              "      <td>0</td>\n",
              "    </tr>\n",
              "    <tr>\n",
              "      <th>176996</th>\n",
              "      <td>0.2</td>\n",
              "      <td>0.3</td>\n",
              "      <td>0.018</td>\n",
              "      <td>3484</td>\n",
              "      <td>218.433</td>\n",
              "      <td>0.767</td>\n",
              "      <td>0</td>\n",
              "    </tr>\n",
              "    <tr>\n",
              "      <th>176997</th>\n",
              "      <td>0.6</td>\n",
              "      <td>0.3</td>\n",
              "      <td>0.010</td>\n",
              "      <td>3483</td>\n",
              "      <td>160.967</td>\n",
              "      <td>1.867</td>\n",
              "      <td>0</td>\n",
              "    </tr>\n",
              "    <tr>\n",
              "      <th>176998</th>\n",
              "      <td>0.6</td>\n",
              "      <td>0.3</td>\n",
              "      <td>0.007</td>\n",
              "      <td>3484</td>\n",
              "      <td>188.367</td>\n",
              "      <td>2.100</td>\n",
              "      <td>0</td>\n",
              "    </tr>\n",
              "    <tr>\n",
              "      <th>176999</th>\n",
              "      <td>0.4</td>\n",
              "      <td>0.1</td>\n",
              "      <td>0.040</td>\n",
              "      <td>3484</td>\n",
              "      <td>229.833</td>\n",
              "      <td>2.400</td>\n",
              "      <td>0</td>\n",
              "    </tr>\n",
              "  </tbody>\n",
              "</table>\n",
              "<p>177000 rows × 7 columns</p>\n",
              "</div>"
            ],
            "text/plain": [
              "        ellis-cpu.system_perc  ...  Label\n",
              "0                         0.5  ...      1\n",
              "1                         0.4  ...      1\n",
              "2                         0.4  ...      1\n",
              "3                         0.4  ...      1\n",
              "4                         0.5  ...      1\n",
              "...                       ...  ...    ...\n",
              "176995                    0.4  ...      0\n",
              "176996                    0.2  ...      0\n",
              "176997                    0.6  ...      0\n",
              "176998                    0.6  ...      0\n",
              "176999                    0.4  ...      0\n",
              "\n",
              "[177000 rows x 7 columns]"
            ]
          },
          "metadata": {},
          "execution_count": 45
        }
      ]
    },
    {
      "cell_type": "markdown",
      "metadata": {
        "id": "o9SAQoIodC1V"
      },
      "source": [
        "First we stored the `feature_cols` and defined the `X` matrix and `y` vector where `X` is a matrix and containing all the feature matrix and `y` is a vector which is having target value."
      ]
    },
    {
      "cell_type": "code",
      "metadata": {
        "id": "27TqMF9VNQgh"
      },
      "source": [
        "\n",
        "# define X and y\n",
        "feature_cols = ['ellis-cpu.wait_perc',\t'ellis-load.avg_1_min',\t'ellis-net.in_bytes_sec','ellis-cpu.system_perc','ellis-mem.free_mb']\n",
        "\n",
        "# X is a matrix, hence we use [] to access the features we want in feature_cols\n",
        "X = df_Ellis[feature_cols]\n",
        "\n",
        "# y is a vector, hence we use dot to access 'label'\n",
        "y = df_Ellis.Label"
      ],
      "execution_count": null,
      "outputs": []
    },
    {
      "cell_type": "markdown",
      "metadata": {
        "id": "lBGYYW2Fdsra"
      },
      "source": [
        "We splitted `X` and `y` into `X_train`, `X_test`, `y_train`, and `y_test` using `train_test_split` function."
      ]
    },
    {
      "cell_type": "code",
      "metadata": {
        "id": "6YiG55Z8NqJR"
      },
      "source": [
        "# split X and y into training and testing sets\n",
        "from sklearn.model_selection import train_test_split\n",
        "X_train, X_test, y_train, y_test = train_test_split(X, y, test_size=0.30, random_state=5)"
      ],
      "execution_count": null,
      "outputs": []
    },
    {
      "cell_type": "markdown",
      "metadata": {
        "id": "UfHBs8eweLT_"
      },
      "source": [
        "We are training the model with Decision Tree."
      ]
    },
    {
      "cell_type": "code",
      "metadata": {
        "colab": {
          "base_uri": "https://localhost:8080/"
        },
        "id": "r1LWPgeBNvMA",
        "outputId": "3fb01e3e-9d22-4547-b5ec-355821675af6"
      },
      "source": [
        "# train a logistic regression model on the training set\n",
        "from sklearn.linear_model import LogisticRegression\n",
        "from sklearn import tree\n",
        "\n",
        "# instantiate model\n",
        "logreg=tree.DecisionTreeClassifier()\n",
        "\n",
        "# fit model\n",
        "logreg.fit(X_train, y_train)"
      ],
      "execution_count": null,
      "outputs": [
        {
          "output_type": "execute_result",
          "data": {
            "text/plain": [
              "DecisionTreeClassifier(ccp_alpha=0.0, class_weight=None, criterion='gini',\n",
              "                       max_depth=None, max_features=None, max_leaf_nodes=None,\n",
              "                       min_impurity_decrease=0.0, min_impurity_split=None,\n",
              "                       min_samples_leaf=1, min_samples_split=2,\n",
              "                       min_weight_fraction_leaf=0.0, presort='deprecated',\n",
              "                       random_state=None, splitter='best')"
            ]
          },
          "metadata": {},
          "execution_count": 119
        }
      ]
    },
    {
      "cell_type": "markdown",
      "metadata": {
        "id": "koopvyUxe1BR"
      },
      "source": [
        "We are making predictions for test set"
      ]
    },
    {
      "cell_type": "code",
      "metadata": {
        "id": "YNrCzlWVODRZ"
      },
      "source": [
        "# make class predictions for the testing set\n",
        "y_pred_class = logreg.predict(X_test)"
      ],
      "execution_count": null,
      "outputs": []
    },
    {
      "cell_type": "markdown",
      "metadata": {
        "id": "61cWU-hAejuK"
      },
      "source": [
        ""
      ]
    },
    {
      "cell_type": "markdown",
      "metadata": {
        "id": "r9XsgzK6e8Sj"
      },
      "source": [
        "Here, we are calculating the accuracy using `sklearn` library"
      ]
    },
    {
      "cell_type": "code",
      "metadata": {
        "colab": {
          "base_uri": "https://localhost:8080/"
        },
        "id": "nrmeurYhOF9A",
        "outputId": "af9f0179-2e24-4b85-e702-09f8cf5dd176"
      },
      "source": [
        "# calculate accuracy\n",
        "from sklearn import metrics\n",
        "print(metrics.accuracy_score(y_test, y_pred_class))"
      ],
      "execution_count": null,
      "outputs": [
        {
          "output_type": "stream",
          "name": "stdout",
          "text": [
            "0.6620338983050847\n"
          ]
        }
      ]
    },
    {
      "cell_type": "markdown",
      "metadata": {
        "id": "We67ligTfEyz"
      },
      "source": [
        "We are examining the class distribution of the testing set using a `pandas` series method"
      ]
    },
    {
      "cell_type": "code",
      "metadata": {
        "colab": {
          "base_uri": "https://localhost:8080/"
        },
        "id": "zdWWQ7p9OLuA",
        "outputId": "d30b7eed-a72b-42dc-946b-6ce13f9d46e1"
      },
      "source": [
        "# examine the class distribution of the testing set (using a Pandas Series method)\n",
        "y_test.value_counts()"
      ],
      "execution_count": null,
      "outputs": [
        {
          "output_type": "execute_result",
          "data": {
            "text/plain": [
              "0    33686\n",
              "1    19414\n",
              "Name: Label, dtype: int64"
            ]
          },
          "metadata": {},
          "execution_count": 122
        }
      ]
    },
    {
      "cell_type": "markdown",
      "metadata": {
        "id": "2mHqdHaOfPHh"
      },
      "source": [
        "We counted the value for each lables"
      ]
    },
    {
      "cell_type": "code",
      "metadata": {
        "colab": {
          "base_uri": "https://localhost:8080/"
        },
        "id": "5y6mGyYwOQf4",
        "outputId": "d8aaf9cc-eb8a-417e-8804-4613e034e8a1"
      },
      "source": [
        "y_train.value_counts()"
      ],
      "execution_count": null,
      "outputs": [
        {
          "output_type": "execute_result",
          "data": {
            "text/plain": [
              "0    78460\n",
              "1    45440\n",
              "Name: Label, dtype: int64"
            ]
          },
          "metadata": {},
          "execution_count": 123
        }
      ]
    },
    {
      "cell_type": "markdown",
      "metadata": {
        "id": "gHYoAXK3fUNr"
      },
      "source": [
        "We are calculating the percentage of ones because `y_test` only contains ones and zeroes, we can simply calculate the mean = percentage of ones"
      ]
    },
    {
      "cell_type": "code",
      "metadata": {
        "colab": {
          "base_uri": "https://localhost:8080/"
        },
        "id": "bGLlh0lVOVMp",
        "outputId": "f389d7cb-bf0b-4cf5-8b5b-6bf962c68717"
      },
      "source": [
        "# calculate the percentage of ones\n",
        "# because y_test only contains ones and zeros, we can simply calculate the mean = percentage of ones\n",
        "y_test.mean()"
      ],
      "execution_count": null,
      "outputs": [
        {
          "output_type": "execute_result",
          "data": {
            "text/plain": [
              "0.3656120527306968"
            ]
          },
          "metadata": {},
          "execution_count": 124
        }
      ]
    },
    {
      "cell_type": "markdown",
      "metadata": {
        "id": "vjerEaxJfhAw"
      },
      "source": [
        "We are calculating the percentage of zeros"
      ]
    },
    {
      "cell_type": "code",
      "metadata": {
        "colab": {
          "base_uri": "https://localhost:8080/"
        },
        "id": "GbU1cj6OOcGq",
        "outputId": "8d1936a2-35c3-4813-be8f-9873c680f59f"
      },
      "source": [
        "# calculate the percentage of zeros\n",
        "1 - y_test.mean()"
      ],
      "execution_count": null,
      "outputs": [
        {
          "output_type": "execute_result",
          "data": {
            "text/plain": [
              "0.6343879472693033"
            ]
          },
          "metadata": {},
          "execution_count": 125
        }
      ]
    },
    {
      "cell_type": "code",
      "metadata": {
        "colab": {
          "base_uri": "https://localhost:8080/"
        },
        "id": "t8w_x6f4OgCL",
        "outputId": "23b3fc85-aa56-4060-922d-cdb04dcbf75e"
      },
      "source": [
        "# calculate null accuracy in a single line of code\n",
        "# only for binary classification problems coded as 0/1\n",
        "max(y_test.mean(), 1 - y_test.mean())"
      ],
      "execution_count": null,
      "outputs": [
        {
          "output_type": "execute_result",
          "data": {
            "text/plain": [
              "0.6343879472693033"
            ]
          },
          "metadata": {},
          "execution_count": 126
        }
      ]
    },
    {
      "cell_type": "code",
      "metadata": {
        "colab": {
          "base_uri": "https://localhost:8080/"
        },
        "id": "iEsa9XIwOkX5",
        "outputId": "9f890113-031a-48ef-f497-644550336b88"
      },
      "source": [
        "# calculate null accuracy (for multi-class classification problems)\n",
        "y_test.value_counts().head(1) / len(y_test)"
      ],
      "execution_count": null,
      "outputs": [
        {
          "output_type": "execute_result",
          "data": {
            "text/plain": [
              "0    0.634388\n",
              "Name: Label, dtype: float64"
            ]
          },
          "metadata": {},
          "execution_count": 127
        }
      ]
    },
    {
      "cell_type": "code",
      "metadata": {
        "colab": {
          "base_uri": "https://localhost:8080/"
        },
        "id": "uYAoMBHPOqPB",
        "outputId": "58da15d1-50c6-42cb-d09c-3f719e333b79"
      },
      "source": [
        "\n",
        "# print the first 25 true and predicted responses\n",
        "print('True:', y_test.values[0:50])\n",
        "print('False:', y_pred_class[0:50])"
      ],
      "execution_count": null,
      "outputs": [
        {
          "output_type": "stream",
          "name": "stdout",
          "text": [
            "True: [0 1 0 0 0 0 0 0 0 0 0 0 0 0 0 1 0 1 0 0 0 0 0 1 0 0 1 0 1 1 1 0 0 0 1 0 0\n",
            " 0 0 0 1 1 0 0 1 1 1 0 0 1]\n",
            "False: [0 0 1 0 0 0 0 0 0 0 1 0 0 0 0 1 0 1 1 0 0 1 1 1 0 0 1 1 0 1 0 0 0 0 0 0 0\n",
            " 0 0 0 1 1 1 1 0 0 0 0 0 0]\n"
          ]
        }
      ]
    },
    {
      "cell_type": "code",
      "metadata": {
        "colab": {
          "base_uri": "https://localhost:8080/"
        },
        "id": "puC1RxKmOw8C",
        "outputId": "30df8b66-f7dc-4cb4-c869-179e2630c240"
      },
      "source": [
        "# IMPORTANT: first argument is true values, second argument is predicted values\n",
        "# this produces a 2x2 numpy array (matrix)\n",
        "print(metrics.confusion_matrix(y_test, y_pred_class))"
      ],
      "execution_count": null,
      "outputs": [
        {
          "output_type": "stream",
          "name": "stdout",
          "text": [
            "[[24355  9331]\n",
            " [ 8615 10799]]\n"
          ]
        }
      ]
    },
    {
      "cell_type": "code",
      "metadata": {
        "colab": {
          "base_uri": "https://localhost:8080/"
        },
        "id": "eXqJUVOlPA_z",
        "outputId": "bbfb9a96-d2fc-4726-e4af-d87fcd9ef7ee"
      },
      "source": [
        "# save confusion matrix and slice into four pieces\n",
        "confusion = metrics.confusion_matrix(y_test, y_pred_class)\n",
        "print(confusion)\n",
        "#[row, column]\n",
        "TP = confusion[1, 1]\n",
        "TN = confusion[0, 0]\n",
        "FP = confusion[0, 1]\n",
        "FN = confusion[1, 0]"
      ],
      "execution_count": null,
      "outputs": [
        {
          "output_type": "stream",
          "name": "stdout",
          "text": [
            "[[24355  9331]\n",
            " [ 8615 10799]]\n"
          ]
        }
      ]
    },
    {
      "cell_type": "code",
      "metadata": {
        "colab": {
          "base_uri": "https://localhost:8080/"
        },
        "id": "klBfDQSgPG4C",
        "outputId": "9928f546-6f0b-4aa9-e647-6a0c0487f798"
      },
      "source": [
        "\n",
        "# use float to perform true division, not integer division\n",
        "print((TP + TN) / float(TP + TN + FP + FN))\n",
        "print(metrics.accuracy_score(y_test, y_pred_class))"
      ],
      "execution_count": null,
      "outputs": [
        {
          "output_type": "stream",
          "name": "stdout",
          "text": [
            "0.6620338983050847\n",
            "0.6620338983050847\n"
          ]
        }
      ]
    },
    {
      "cell_type": "markdown",
      "metadata": {
        "id": "aeoA5XY_fyfU"
      },
      "source": [
        "We are defining a function `print_results` to print the result of `y_test` and `y_pred`."
      ]
    },
    {
      "cell_type": "code",
      "metadata": {
        "id": "D8GDuytFHL0o"
      },
      "source": [
        "def print_results(y_test, y_pred):\n",
        "    \n",
        "    #f1-score\n",
        "    f1 = metrics.f1_score(y_test, y_pred)\n",
        "    print(\"F1 Score: \", f1)\n",
        "    print(classification_report(y_test, y_pred))\n",
        "    \n",
        "    conf_matrix = metrics.confusion_matrix(y_test, y_pred)\n",
        "    plt.figure(figsize=(12,12))\n",
        "    plt.subplot(221)\n",
        "    sns.heatmap(conf_matrix, fmt = \"d\",annot=True, cmap='Blues')\n",
        "    b, t = plt.ylim()\n",
        "    plt.ylim(b + 0.5, t - 0.5)\n",
        "    plt.title('Confuion Matrix')\n",
        "    plt.ylabel('True Values')\n",
        "    plt.xlabel('Predicted Values')\n",
        "\n",
        "    #roc_auc_score\n",
        "    model_roc_auc = metrics.roc_auc_score(y_test, y_pred) \n",
        "    print (\"Area under curve : \",model_roc_auc,\"\\n\")\n",
        "    fpr,tpr,thresholds = metrics.roc_curve(y_test, y_pred)\n",
        "    gmeans = np.sqrt(tpr * (1-fpr))\n",
        "    ix = np.argmax(gmeans)\n",
        "    threshold = np.round(thresholds[ix],3)\n",
        "\n",
        "    plt.subplot(222)\n",
        "    plt.plot(fpr, tpr, color='darkorange', lw=1, label = \"Auc : %.3f\" %model_roc_auc)\n",
        "    plt.plot([0, 1], [0, 1], color='navy', lw=2, linestyle='--')\n",
        "    plt.scatter(fpr[ix], tpr[ix], marker='o', color='black', label='Best Threshold:' + str(threshold))\n",
        "    plt.xlim([0.0, 1.0])\n",
        "    plt.ylim([0.0, 1.05])\n",
        "    plt.xlabel('False Positive Rate')\n",
        "    plt.ylabel('True Positive Rate')\n",
        "    plt.title('Receiver operating characteristic')\n",
        "    plt.legend(loc=\"lower right\")"
      ],
      "execution_count": null,
      "outputs": []
    },
    {
      "cell_type": "code",
      "metadata": {
        "colab": {
          "base_uri": "https://localhost:8080/",
          "height": 578
        },
        "id": "X2tMErOPHQZQ",
        "outputId": "f6e44631-e5fe-4423-9cae-b6bed5c7a874"
      },
      "source": [
        "import sklearn.metrics as metrics\n",
        "import seaborn as sns\n",
        "\n",
        "from sklearn.metrics import classification_report\n",
        "print_results(y_test, y_pred_class)"
      ],
      "execution_count": null,
      "outputs": [
        {
          "output_type": "stream",
          "name": "stdout",
          "text": [
            "F1 Score:  0.5461764110863848\n",
            "              precision    recall  f1-score   support\n",
            "\n",
            "           0       0.74      0.72      0.73     33686\n",
            "           1       0.54      0.56      0.55     19414\n",
            "\n",
            "    accuracy                           0.66     53100\n",
            "   macro avg       0.64      0.64      0.64     53100\n",
            "weighted avg       0.66      0.66      0.66     53100\n",
            "\n",
            "Area under curve :  0.6396243607472745 \n",
            "\n"
          ]
        },
        {
          "output_type": "display_data",
          "data": {
            "image/png": "[encoded data removed]",
            "text/plain": [
              "<Figure size 864x864 with 3 Axes>"
            ]
          },
          "metadata": {
            "needs_background": "light"
          }
        }
      ]
    },
    {
      "cell_type": "code",
      "metadata": {
        "id": "-NpF2Zc4lIdW"
      },
      "source": [
        ""
      ],
      "execution_count": null,
      "outputs": []
    }
  ]
}